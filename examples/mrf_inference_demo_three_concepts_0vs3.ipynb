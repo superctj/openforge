{
 "cells": [
  {
   "cell_type": "code",
   "execution_count": 1,
   "metadata": {},
   "outputs": [],
   "source": [
    "import pyAgrum as gum\n",
    "import pyAgrum.lib.notebook as gnb"
   ]
  },
  {
   "cell_type": "code",
   "execution_count": 2,
   "metadata": {},
   "outputs": [],
   "source": [
    "mrf = gum.MarkovRandomField()"
   ]
  },
  {
   "cell_type": "markdown",
   "metadata": {},
   "source": [
    "## Add variables to the MRF"
   ]
  },
  {
   "cell_type": "code",
   "execution_count": 3,
   "metadata": {},
   "outputs": [
    {
     "name": "stdout",
     "output_type": "stream",
     "text": [
      "MRF variables:  {'r23', 'r12', 'r13'}\n",
      "MRF factors:  []\n"
     ]
    }
   ],
   "source": [
    "r12 = gum.IntegerVariable(\"r12\", \"relation variable between concept 1 and 2\", [0, 1])\n",
    "r13 = gum.IntegerVariable(\"r13\", \"relation variable between concept 1 and 3\", [0, 1])\n",
    "r23 = gum.IntegerVariable(\"r23\", \"relation variable between concept 2 and 3\", [0, 1])\n",
    "\n",
    "mrf.add(r12)\n",
    "mrf.add(r13)\n",
    "mrf.add(r23)\n",
    "\n",
    "print(\"MRF variables: \", mrf.names())\n",
    "print(\"MRF factors: \", mrf.factors())"
   ]
  },
  {
   "cell_type": "markdown",
   "metadata": {},
   "source": [
    "## Add unary factors"
   ]
  },
  {
   "cell_type": "code",
   "execution_count": 4,
   "metadata": {},
   "outputs": [
    {
     "data": {
      "text/plain": [
       "[{1}, {0}, {2}]"
      ]
     },
     "execution_count": 4,
     "metadata": {},
     "output_type": "execute_result"
    }
   ],
   "source": [
    "# fake unary factors\n",
    "# table_r12 = [0.2, 0.8]\n",
    "# table_r13 = [0.1, 0.9]\n",
    "# table_r23 = [0.3, 0.7]\n",
    "\n",
    "# real unary factors\n",
    "table_r12 = [0.05, 0.95]\n",
    "table_r13 = [0.97, 0.03]\n",
    "table_r23 = [0.3, 0.7]\n",
    "\n",
    "p_r12 = gum.Potential().add(r12).fillWith(table_r12)\n",
    "p_r13 = gum.Potential().add(r13).fillWith(table_r13)\n",
    "p_r23 = gum.Potential().add(r23).fillWith(table_r23)\n",
    "\n",
    "mrf.addFactor(p_r12)\n",
    "mrf.addFactor(p_r13)\n",
    "mrf.addFactor(p_r23)\n",
    "\n",
    "mrf.factors()"
   ]
  },
  {
   "cell_type": "markdown",
   "metadata": {},
   "source": [
    "## Add binary factors"
   ]
  },
  {
   "cell_type": "code",
   "execution_count": 5,
   "metadata": {},
   "outputs": [
    {
     "data": {
      "text/plain": [
       "[{1}, {0, 1}, {1, 2}, {0}, {2}, {0, 2}]"
      ]
     },
     "execution_count": 5,
     "metadata": {},
     "output_type": "execute_result"
    }
   ],
   "source": [
    "table_binary = [0.9, 0.1, 0.1, 0.9]\n",
    "\n",
    "p_r12_r13 = gum.Potential().add(r12).add(r13).fillWith(table_binary)\n",
    "p_r12_r23 = gum.Potential().add(r12).add(r23).fillWith(table_binary)\n",
    "p_r13_r23 = gum.Potential().add(r13).add(r23).fillWith(table_binary)\n",
    "\n",
    "mrf.addFactor(p_r12_r13)\n",
    "mrf.addFactor(p_r12_r23)\n",
    "mrf.addFactor(p_r13_r23)\n",
    "\n",
    "mrf.factors()"
   ]
  },
  {
   "cell_type": "markdown",
   "metadata": {},
   "source": [
    "## Add ternary factors"
   ]
  },
  {
   "cell_type": "code",
   "execution_count": 6,
   "metadata": {},
   "outputs": [
    {
     "data": {
      "text/plain": [
       "[{1}, {0, 1}, {1, 2}, {0, 1, 2}, {0}, {2}, {0, 2}]"
      ]
     },
     "execution_count": 6,
     "metadata": {},
     "output_type": "execute_result"
    }
   ],
   "source": [
    "table_ternary = [1, 0.8, 0.8, 0, 0.8, 0, 0, 1]\n",
    "\n",
    "p_r12_r13_r23 = gum.Potential().add(r12).add(r13).add(r23).fillWith(table_ternary)\n",
    "\n",
    "mrf.addFactor(p_r12_r13_r23)\n",
    "\n",
    "mrf.factors()"
   ]
  },
  {
   "cell_type": "markdown",
   "metadata": {},
   "source": [
    "## Markov Random Field and factor graph"
   ]
  },
  {
   "cell_type": "code",
   "execution_count": 7,
   "metadata": {},
   "outputs": [
    {
     "data": {
      "text/html": [
       "<table style=\"border-style: hidden; border-collapse: collapse;\" width=\"100%\"><tr><td style=\"border-top:hidden;border-bottom:hidden;vertical-align:middle;\"><div align=\"center\" style=\"vertical-align:middle;\"><svg xmlns=\"http://www.w3.org/2000/svg\" xmlns:xlink=\"http://www.w3.org/1999/xlink\" width=\"90pt\" height=\"188pt\" viewBox=\"0.00 0.00 90.00 188.00\">\n",
       "<g id=\"graph0\" class=\"graph\" transform=\"scale(1 1) rotate(0) translate(4 184)\">\n",
       "<title>G</title>\n",
       "<!-- r23 -->\n",
       "<g id=\"node1\" class=\"node\">\n",
       "<title>r23</title>\n",
       "<g id=\"a_node1\"><a xlink:title=\"(2) r23\">\n",
       "<ellipse fill=\"#404040\" stroke=\"black\" cx=\"27\" cy=\"-18\" rx=\"27\" ry=\"18\"/>\n",
       "<text text-anchor=\"middle\" x=\"27\" y=\"-14.3\" font-family=\"Times,serif\" font-size=\"14.00\" fill=\"white\">r23</text>\n",
       "</a>\n",
       "</g>\n",
       "</g>\n",
       "<!-- r12 -->\n",
       "<g id=\"node2\" class=\"node\">\n",
       "<title>r12</title>\n",
       "<g id=\"a_node2\"><a xlink:title=\"(0) r12\">\n",
       "<ellipse fill=\"#404040\" stroke=\"black\" cx=\"27\" cy=\"-162\" rx=\"27\" ry=\"18\"/>\n",
       "<text text-anchor=\"middle\" x=\"27\" y=\"-158.3\" font-family=\"Times,serif\" font-size=\"14.00\" fill=\"white\">r12</text>\n",
       "</a>\n",
       "</g>\n",
       "</g>\n",
       "<!-- r12&#45;&#45;r23 -->\n",
       "<g id=\"edge2\" class=\"edge\">\n",
       "<title>r12--r23</title>\n",
       "<g id=\"a_edge2\"><a xlink:title=\"0 — 2\">\n",
       "<path fill=\"none\" stroke=\"#4a4a4a\" d=\"M23.75,-143.89C21.95,-133.54 19.91,-120.06 19,-108 17.8,-92.04 17.8,-87.96 19,-72 19.91,-59.94 21.95,-46.46 23.75,-36.11\"/>\n",
       "</a>\n",
       "</g>\n",
       "</g>\n",
       "<!-- r13 -->\n",
       "<g id=\"node3\" class=\"node\">\n",
       "<title>r13</title>\n",
       "<g id=\"a_node3\"><a xlink:title=\"(1) r13\">\n",
       "<ellipse fill=\"#404040\" stroke=\"black\" cx=\"55\" cy=\"-90\" rx=\"27\" ry=\"18\"/>\n",
       "<text text-anchor=\"middle\" x=\"55\" y=\"-86.3\" font-family=\"Times,serif\" font-size=\"14.00\" fill=\"white\">r13</text>\n",
       "</a>\n",
       "</g>\n",
       "</g>\n",
       "<!-- r12&#45;&#45;r13 -->\n",
       "<g id=\"edge1\" class=\"edge\">\n",
       "<title>r12--r13</title>\n",
       "<g id=\"a_edge1\"><a xlink:title=\"0 — 1\">\n",
       "<path fill=\"none\" stroke=\"#4a4a4a\" d=\"M33.64,-144.41C38.1,-133.25 43.96,-118.6 48.41,-107.47\"/>\n",
       "</a>\n",
       "</g>\n",
       "</g>\n",
       "<!-- r13&#45;&#45;r23 -->\n",
       "<g id=\"edge3\" class=\"edge\">\n",
       "<title>r13--r23</title>\n",
       "<g id=\"a_edge3\"><a xlink:title=\"1 — 2\">\n",
       "<path fill=\"none\" stroke=\"#4a4a4a\" d=\"M48.36,-72.41C43.9,-61.25 38.04,-46.6 33.59,-35.47\"/>\n",
       "</a>\n",
       "</g>\n",
       "</g>\n",
       "</g>\n",
       "</svg></div></td><td style=\"border-top:hidden;border-bottom:hidden;vertical-align:middle;\"><div align=\"center\" style=\"vertical-align:middle;\"><svg xmlns=\"http://www.w3.org/2000/svg\" xmlns:xlink=\"http://www.w3.org/1999/xlink\" width=\"165pt\" height=\"72pt\" viewBox=\"0.00 0.00 165.20 72.20\">\n",
       "<g id=\"graph0\" class=\"graph\" transform=\"scale(1 1) rotate(0) translate(4 68.2)\">\n",
       "<title>G</title>\n",
       "<!-- r23 -->\n",
       "<g id=\"node1\" class=\"node\">\n",
       "<title>r23</title>\n",
       "<g id=\"a_node1\"><a xlink:title=\"(2) r23\">\n",
       "<polygon fill=\"coral\" stroke=\"black\" points=\"45.1,-21 14.1,-21 14.1,0 45.1,0 45.1,-21\"/>\n",
       "<text text-anchor=\"middle\" x=\"29.6\" y=\"-6.8\" font-family=\"Times,serif\" font-size=\"14.00\">r23</text>\n",
       "</a>\n",
       "</g>\n",
       "</g>\n",
       "<!-- r12 -->\n",
       "<g id=\"node2\" class=\"node\">\n",
       "<title>r12</title>\n",
       "<g id=\"a_node2\"><a xlink:title=\"(0) r12\">\n",
       "<polygon fill=\"coral\" stroke=\"black\" points=\"143.1,-21 112.1,-21 112.1,0 143.1,0 143.1,-21\"/>\n",
       "<text text-anchor=\"middle\" x=\"127.6\" y=\"-6.8\" font-family=\"Times,serif\" font-size=\"14.00\">r12</text>\n",
       "</a>\n",
       "</g>\n",
       "</g>\n",
       "<!-- r13 -->\n",
       "<g id=\"node3\" class=\"node\">\n",
       "<title>r13</title>\n",
       "<g id=\"a_node3\"><a xlink:title=\"(1) r13\">\n",
       "<polygon fill=\"coral\" stroke=\"black\" points=\"94.1,-21 63.1,-21 63.1,0 94.1,0 94.1,-21\"/>\n",
       "<text text-anchor=\"middle\" x=\"78.6\" y=\"-6.8\" font-family=\"Times,serif\" font-size=\"14.00\">r13</text>\n",
       "</a>\n",
       "</g>\n",
       "</g>\n",
       "<!-- f1 -->\n",
       "<g id=\"node4\" class=\"node\">\n",
       "<title>f1</title>\n",
       "<ellipse fill=\"burlywood\" stroke=\"black\" cx=\"103.6\" cy=\"-60.6\" rx=\"3.6\" ry=\"3.6\"/>\n",
       "</g>\n",
       "<!-- f1&#45;&#45;r13 -->\n",
       "<g id=\"edge1\" class=\"edge\">\n",
       "<title>f1--r13</title>\n",
       "<path fill=\"none\" stroke=\"#4a4a4a\" d=\"M102.26,-57.01C98.81,-50.38 89.51,-32.49 83.65,-21.21\"/>\n",
       "</g>\n",
       "<!-- f0#1 -->\n",
       "<g id=\"node5\" class=\"node\">\n",
       "<title>f0#1</title>\n",
       "<ellipse fill=\"burlywood\" stroke=\"black\" cx=\"128.6\" cy=\"-60.6\" rx=\"3.6\" ry=\"3.6\"/>\n",
       "</g>\n",
       "<!-- f0#1&#45;&#45;r12 -->\n",
       "<g id=\"edge2\" class=\"edge\">\n",
       "<title>f0#1--r12</title>\n",
       "<path fill=\"none\" stroke=\"#4a4a4a\" d=\"M128.54,-56.74C128.4,-49.86 128.03,-32.17 127.8,-21.06\"/>\n",
       "</g>\n",
       "<!-- f0#1&#45;&#45;r13 -->\n",
       "<g id=\"edge3\" class=\"edge\">\n",
       "<title>f0#1--r13</title>\n",
       "<path fill=\"none\" stroke=\"#4a4a4a\" d=\"M126.45,-57.53C120.02,-51.35 100.63,-32.69 88.6,-21.12\"/>\n",
       "</g>\n",
       "<!-- f1#2 -->\n",
       "<g id=\"node6\" class=\"node\">\n",
       "<title>f1#2</title>\n",
       "<ellipse fill=\"burlywood\" stroke=\"black\" cx=\"28.6\" cy=\"-60.6\" rx=\"3.6\" ry=\"3.6\"/>\n",
       "</g>\n",
       "<!-- f1#2&#45;&#45;r23 -->\n",
       "<g id=\"edge5\" class=\"edge\">\n",
       "<title>f1#2--r23</title>\n",
       "<path fill=\"none\" stroke=\"#4a4a4a\" d=\"M28.66,-56.74C28.8,-49.86 29.17,-32.17 29.4,-21.06\"/>\n",
       "</g>\n",
       "<!-- f1#2&#45;&#45;r13 -->\n",
       "<g id=\"edge4\" class=\"edge\">\n",
       "<title>f1#2--r13</title>\n",
       "<path fill=\"none\" stroke=\"#4a4a4a\" d=\"M30.75,-57.53C37.18,-51.35 56.57,-32.69 68.6,-21.12\"/>\n",
       "</g>\n",
       "<!-- f0#1#2 -->\n",
       "<g id=\"node7\" class=\"node\">\n",
       "<title>f0#1#2</title>\n",
       "<ellipse fill=\"burlywood\" stroke=\"black\" cx=\"53.6\" cy=\"-60.6\" rx=\"3.6\" ry=\"3.6\"/>\n",
       "</g>\n",
       "<!-- f0#1#2&#45;&#45;r23 -->\n",
       "<g id=\"edge8\" class=\"edge\">\n",
       "<title>f0#1#2--r23</title>\n",
       "<path fill=\"none\" stroke=\"#4a4a4a\" d=\"M52.31,-57.01C49,-50.38 40.07,-32.49 34.45,-21.21\"/>\n",
       "</g>\n",
       "<!-- f0#1#2&#45;&#45;r12 -->\n",
       "<g id=\"edge6\" class=\"edge\">\n",
       "<title>f0#1#2--r12</title>\n",
       "<path fill=\"none\" stroke=\"#4a4a4a\" d=\"M56.41,-57.77C65.55,-51.84 94.84,-32.79 112.88,-21.07\"/>\n",
       "</g>\n",
       "<!-- f0#1#2&#45;&#45;r13 -->\n",
       "<g id=\"edge7\" class=\"edge\">\n",
       "<title>f0#1#2--r13</title>\n",
       "<path fill=\"none\" stroke=\"#4a4a4a\" d=\"M54.94,-57.01C58.39,-50.38 67.69,-32.49 73.55,-21.21\"/>\n",
       "</g>\n",
       "<!-- f0 -->\n",
       "<g id=\"node8\" class=\"node\">\n",
       "<title>f0</title>\n",
       "<ellipse fill=\"burlywood\" stroke=\"black\" cx=\"153.6\" cy=\"-60.6\" rx=\"3.6\" ry=\"3.6\"/>\n",
       "</g>\n",
       "<!-- f0&#45;&#45;r12 -->\n",
       "<g id=\"edge9\" class=\"edge\">\n",
       "<title>f0--r12</title>\n",
       "<path fill=\"none\" stroke=\"#4a4a4a\" d=\"M152.2,-57.01C148.62,-50.38 138.94,-32.49 132.85,-21.21\"/>\n",
       "</g>\n",
       "<!-- f2 -->\n",
       "<g id=\"node9\" class=\"node\">\n",
       "<title>f2</title>\n",
       "<ellipse fill=\"burlywood\" stroke=\"black\" cx=\"3.6\" cy=\"-60.6\" rx=\"3.6\" ry=\"3.6\"/>\n",
       "</g>\n",
       "<!-- f2&#45;&#45;r23 -->\n",
       "<g id=\"edge10\" class=\"edge\">\n",
       "<title>f2--r23</title>\n",
       "<path fill=\"none\" stroke=\"#4a4a4a\" d=\"M5,-57.01C8.58,-50.38 18.26,-32.49 24.35,-21.21\"/>\n",
       "</g>\n",
       "<!-- f0#2 -->\n",
       "<g id=\"node10\" class=\"node\">\n",
       "<title>f0#2</title>\n",
       "<ellipse fill=\"burlywood\" stroke=\"black\" cx=\"78.6\" cy=\"-60.6\" rx=\"3.6\" ry=\"3.6\"/>\n",
       "</g>\n",
       "<!-- f0#2&#45;&#45;r23 -->\n",
       "<g id=\"edge12\" class=\"edge\">\n",
       "<title>f0#2--r23</title>\n",
       "<path fill=\"none\" stroke=\"#4a4a4a\" d=\"M76.49,-57.53C70.19,-51.35 51.19,-32.69 39.4,-21.12\"/>\n",
       "</g>\n",
       "<!-- f0#2&#45;&#45;r12 -->\n",
       "<g id=\"edge11\" class=\"edge\">\n",
       "<title>f0#2--r12</title>\n",
       "<path fill=\"none\" stroke=\"#4a4a4a\" d=\"M80.71,-57.53C87.01,-51.35 106.01,-32.69 117.8,-21.12\"/>\n",
       "</g>\n",
       "</g>\n",
       "</svg></div></td></tr></table>"
      ],
      "text/plain": [
       "<IPython.core.display.HTML object>"
      ]
     },
     "metadata": {},
     "output_type": "display_data"
    }
   ],
   "source": [
    "gnb.sideBySide(gnb.getMRF(mrf, view=\"graph\", size=\"5\"),\n",
    "               gnb.getMRF(mrf, view=\"factorgraph\", size=\"10\"))"
   ]
  },
  {
   "cell_type": "markdown",
   "metadata": {},
   "source": [
    "## Shafer-Shenoy Inference"
   ]
  },
  {
   "cell_type": "code",
   "execution_count": 8,
   "metadata": {},
   "outputs": [],
   "source": [
    "ss = gum.ShaferShenoyMRFInference(mrf)\n",
    "ss.makeInference()"
   ]
  },
  {
   "cell_type": "code",
   "execution_count": 9,
   "metadata": {},
   "outputs": [
    {
     "data": {
      "text/html": [
       "<table style=\"border-style: hidden; border-collapse: collapse;\" width=\"100%\"><tr><td style=\"border-top:hidden;border-bottom:hidden;vertical-align:middle;\"><div align=\"center\" style=\"vertical-align:middle;\"><table style=\"border:1px solid black;\">\n",
       "<tr style='border:1px solid black;color:black;background-color:#808080'>\n",
       "      <th colspan='2'><center>r12</center></th></tr>\n",
       "<tr><th style='border:1px solid black;border-bottom-style: double;color:black;background-color:#BBBBBB'>\n",
       "      <center>0</center></th><th style='border:1px solid black;border-bottom-style: double;color:black;background-color:#BBBBBB'>\n",
       "      <center>1</center></th></tr>\n",
       "<tr><td style='color:black;background-color:#ccb164;text-align:right;'>0.3963</td><td style='color:black;background-color:#b1cc64;text-align:right;'>0.6037</td></tr>\n",
       "</table></div></td><td style=\"border-top:hidden;border-bottom:hidden;vertical-align:middle;\"><div align=\"center\" style=\"vertical-align:middle;\"><table style=\"border:1px solid black;\">\n",
       "<tr style='border:1px solid black;color:black;background-color:#808080'>\n",
       "      <th colspan='2'><center>r13</center></th></tr>\n",
       "<tr><th style='border:1px solid black;border-bottom-style: double;color:black;background-color:#BBBBBB'>\n",
       "      <center>0</center></th><th style='border:1px solid black;border-bottom-style: double;color:black;background-color:#BBBBBB'>\n",
       "      <center>1</center></th></tr>\n",
       "<tr><td style='color:black;background-color:#c2bb64;text-align:right;'>0.4689</td><td style='color:black;background-color:#bbc264;text-align:right;'>0.5311</td></tr>\n",
       "</table></div></td><td style=\"border-top:hidden;border-bottom:hidden;vertical-align:middle;\"><div align=\"center\" style=\"vertical-align:middle;\"><table style=\"border:1px solid black;\">\n",
       "<tr style='border:1px solid black;color:black;background-color:#808080'>\n",
       "      <th colspan='2'><center>r23</center></th></tr>\n",
       "<tr><th style='border:1px solid black;border-bottom-style: double;color:black;background-color:#BBBBBB'>\n",
       "      <center>0</center></th><th style='border:1px solid black;border-bottom-style: double;color:black;background-color:#BBBBBB'>\n",
       "      <center>1</center></th></tr>\n",
       "<tr><td style='color:black;background-color:#c4b964;text-align:right;'>0.4601</td><td style='color:black;background-color:#b9c464;text-align:right;'>0.5399</td></tr>\n",
       "</table></div></td></tr></table>"
      ],
      "text/plain": [
       "<IPython.core.display.HTML object>"
      ]
     },
     "metadata": {},
     "output_type": "display_data"
    }
   ],
   "source": [
    "gnb.sideBySide(ss.posterior(\"r12\"), ss.posterior(\"r13\"), ss.posterior(\"r23\"))"
   ]
  },
  {
   "cell_type": "code",
   "execution_count": 10,
   "metadata": {},
   "outputs": [],
   "source": [
    "# mrf = gum.fastMRF(\"r12;r13;r14;r23;r24;r34;r12--r13;r12--r14;r12--r23;r12--r24;r13--r14;r13--r23;r13--r34;r14--r24;r14--r34;r23--r24;r23--r34;r24--r34;r12--r13--r23;r12--r14--r24;r13--r14--r34;r23--r24--r34\")"
   ]
  },
  {
   "cell_type": "code",
   "execution_count": 11,
   "metadata": {},
   "outputs": [],
   "source": [
    "# gnb.sideBySide(gnb.getMRF(mrf,view=\"graph\",size=\"5\"),\n",
    "#                gnb.getMRF(mrf,view=\"factorgraph\",size=\"5\"))"
   ]
  },
  {
   "cell_type": "code",
   "execution_count": 12,
   "metadata": {},
   "outputs": [],
   "source": [
    "# gnb.showMRF(mrf, size=\"10\")"
   ]
  },
  {
   "cell_type": "code",
   "execution_count": 13,
   "metadata": {},
   "outputs": [],
   "source": [
    "# iemn = gum.ShaferShenoyMRFInference(mrf)\n",
    "# iemn.setEvidence({'r12':1,'r23':1,'r34':1})"
   ]
  }
 ],
 "metadata": {
  "kernelspec": {
   "display_name": "openforge",
   "language": "python",
   "name": "python3"
  },
  "language_info": {
   "codemirror_mode": {
    "name": "ipython",
    "version": 3
   },
   "file_extension": ".py",
   "mimetype": "text/x-python",
   "name": "python",
   "nbconvert_exporter": "python",
   "pygments_lexer": "ipython3",
   "version": "3.9.18"
  }
 },
 "nbformat": 4,
 "nbformat_minor": 2
}
