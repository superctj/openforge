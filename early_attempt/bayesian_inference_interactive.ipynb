{
 "cells": [
  {
   "cell_type": "code",
   "execution_count": 1,
   "metadata": {},
   "outputs": [],
   "source": [
    "import argparse\n",
    "import pickle\n",
    "import random\n",
    "\n",
    "import arviz as az\n",
    "import matplotlib.pyplot as plt\n",
    "import numpy as np\n",
    "import pymc as pm"
   ]
  },
  {
   "cell_type": "code",
   "execution_count": 2,
   "metadata": {},
   "outputs": [],
   "source": [
    "parser = argparse.ArgumentParser()\n",
    "\n",
    "parser.add_argument(\"--random_seed\", type=int, default=12345, help=\"Random seed.\")\n",
    "\n",
    "parser.add_argument(\"--evidence_filepath\", type=str, default=\"./data/arts_top-100-concepts_evidence.pkl\", help=\"Path to the observed evidence.\")\n",
    "\n",
    "parser.add_argument(\"--prior_model_path\", type=str, default=\"./models/rc_arts_num-head-concepts-100.pkl\", help=\"Path to a machine learning model that gives prior probabilities.\")\n",
    "\n",
    "parser.add_argument(\"--sample_size\", type=int, default=1000, help=\"Number of samples to draw from each chain of the posterior.\")\n",
    "\n",
    "parser.add_argument(\"--num_chains\", type=int, default=4, help=\"Number of chains in the sampler.\")\n",
    "\n",
    "# workaround to use argparse in jupyter notebook\n",
    "# https://stackoverflow.com/questions/50763033/argparse-in-jupyter-notebook-throws-a-typeerror\n",
    "args = parser.parse_args([])\n",
    "random.seed(args.random_seed)"
   ]
  },
  {
   "cell_type": "code",
   "execution_count": 3,
   "metadata": {},
   "outputs": [
    {
     "name": "stdout",
     "output_type": "stream",
     "text": [
      "Number of relation variables: 9900\n"
     ]
    }
   ],
   "source": [
    "with open(args.evidence_filepath, \"rb\") as f:\n",
    "    evidence = pickle.load(f)\n",
    "    print(\"Number of relation variables:\", len(evidence))\n",
    "    \n",
    "e1_values = []\n",
    "e2_values = []\n",
    "for e in evidence:\n",
    "    e1_values.append(e[1][0])\n",
    "    e2_values.append(e[1][1])\n",
    "e1_values = np.array(e1_values)\n",
    "e2_values = np.array(e2_values)\n",
    "# x_values = np.column_stack((e1_values, e2_values))\n",
    "\n",
    "with open(args.prior_model_path, \"rb\") as f:\n",
    "    prior_model = pickle.load(f)"
   ]
  },
  {
   "cell_type": "code",
   "execution_count": 4,
   "metadata": {},
   "outputs": [
    {
     "name": "stderr",
     "output_type": "stream",
     "text": [
      "Multiprocess sampling (4 chains in 4 jobs)\n",
      "BinaryGibbsMetropolis: [r]\n"
     ]
    },
    {
     "data": {
      "text/html": [
       "\n",
       "<style>\n",
       "    /* Turns off some styling */\n",
       "    progress {\n",
       "        /* gets rid of default border in Firefox and Opera. */\n",
       "        border: none;\n",
       "        /* Needs to be in here for Safari polyfill so background images work as expected. */\n",
       "        background-size: auto;\n",
       "    }\n",
       "    progress:not([value]), progress:not([value])::-webkit-progress-bar {\n",
       "        background: repeating-linear-gradient(45deg, #7e7e7e, #7e7e7e 10px, #5c5c5c 10px, #5c5c5c 20px);\n",
       "    }\n",
       "    .progress-bar-interrupted, .progress-bar-interrupted::-webkit-progress-bar {\n",
       "        background: #F44336;\n",
       "    }\n",
       "</style>\n"
      ],
      "text/plain": [
       "<IPython.core.display.HTML object>"
      ]
     },
     "metadata": {},
     "output_type": "display_data"
    },
    {
     "data": {
      "text/html": [
       "\n",
       "    <div>\n",
       "      <progress value='5286' class='' max='8000' style='width:300px; height:20px; vertical-align: middle;'></progress>\n",
       "      66.08% [5286/8000 43:25&lt;22:17 Sampling 4 chains, 0 divergences]\n",
       "    </div>\n",
       "    "
      ],
      "text/plain": [
       "<IPython.core.display.HTML object>"
      ]
     },
     "metadata": {},
     "output_type": "display_data"
    }
   ],
   "source": [
    "with pm.Model() as model:\n",
    "    e1 = pm.Normal(\"e1\", mu=0, sigma=1, shape=len(evidence), observed=e1_values)\n",
    "    e2 = pm.Normal(\"e2\", mu=0, sigma=1, shape=len(evidence),observed=e2_values)\n",
    "\n",
    "    ml_prior = prior_model.predict_proba(np.column_stack((e1.eval(), e2.eval())))[:, 1]\n",
    "\n",
    "    r = pm.Bernoulli(\"r\", p=ml_prior, shape=len(evidence))\n",
    "\n",
    "    # Use the Metropolis-Hastings sampler\n",
    "    # step = pm.Metropolis()\n",
    "    # step = pm.BinaryMetropolis([r])\n",
    "    step = pm.BinaryGibbsMetropolis([r])\n",
    "\n",
    "    # Run the sampler\n",
    "    trace = pm.sample(args.sample_size, step=step, chains=args.num_chains, random_seed=args.random_seed)"
   ]
  },
  {
   "cell_type": "code",
   "execution_count": 9,
   "metadata": {},
   "outputs": [
    {
     "name": "stdout",
     "output_type": "stream",
     "text": [
      "[0.53299414 0.84218822 0.02926784 ... 0.50218808 0.51580493 0.24338816]\n"
     ]
    }
   ],
   "source": [
    "print(ml_prior)"
   ]
  },
  {
   "cell_type": "code",
   "execution_count": 8,
   "metadata": {},
   "outputs": [
    {
     "data": {
      "image/svg+xml": [
       "<?xml version=\"1.0\" encoding=\"UTF-8\" standalone=\"no\"?>\n",
       "<!DOCTYPE svg PUBLIC \"-//W3C//DTD SVG 1.1//EN\"\n",
       " \"http://www.w3.org/Graphics/SVG/1.1/DTD/svg11.dtd\">\n",
       "<!-- Generated by graphviz version 2.49.0 (20210829.0051)\n",
       " -->\n",
       "<!-- Pages: 1 -->\n",
       "<svg width=\"388pt\" height=\"138pt\"\n",
       " viewBox=\"0.00 0.00 388.00 137.95\" xmlns=\"http://www.w3.org/2000/svg\" xmlns:xlink=\"http://www.w3.org/1999/xlink\">\n",
       "<g id=\"graph0\" class=\"graph\" transform=\"scale(1 1) rotate(0) translate(4 133.95)\">\n",
       "<polygon fill=\"white\" stroke=\"transparent\" points=\"-4,4 -4,-133.95 384,-133.95 384,4 -4,4\"/>\n",
       "<g id=\"clust1\" class=\"cluster\">\n",
       "<title>cluster9900</title>\n",
       "<path fill=\"none\" stroke=\"black\" d=\"M20,-8C20,-8 360,-8 360,-8 366,-8 372,-14 372,-20 372,-20 372,-109.95 372,-109.95 372,-115.95 366,-121.95 360,-121.95 360,-121.95 20,-121.95 20,-121.95 14,-121.95 8,-115.95 8,-109.95 8,-109.95 8,-20 8,-20 8,-14 14,-8 20,-8\"/>\n",
       "<text text-anchor=\"middle\" x=\"345.5\" y=\"-15.8\" font-family=\"Times,serif\" font-size=\"14.00\">9900</text>\n",
       "</g>\n",
       "<!-- e2 -->\n",
       "<g id=\"node1\" class=\"node\">\n",
       "<title>e2</title>\n",
       "<ellipse fill=\"lightgrey\" stroke=\"black\" cx=\"315\" cy=\"-76.48\" rx=\"49.49\" ry=\"37.45\"/>\n",
       "<text text-anchor=\"middle\" x=\"315\" y=\"-87.78\" font-family=\"Times,serif\" font-size=\"14.00\">e2</text>\n",
       "<text text-anchor=\"middle\" x=\"315\" y=\"-72.78\" font-family=\"Times,serif\" font-size=\"14.00\">~</text>\n",
       "<text text-anchor=\"middle\" x=\"315\" y=\"-57.78\" font-family=\"Times,serif\" font-size=\"14.00\">Normal</text>\n",
       "</g>\n",
       "<!-- r -->\n",
       "<g id=\"node2\" class=\"node\">\n",
       "<title>r</title>\n",
       "<ellipse fill=\"none\" stroke=\"black\" cx=\"190\" cy=\"-76.48\" rx=\"57.97\" ry=\"37.45\"/>\n",
       "<text text-anchor=\"middle\" x=\"190\" y=\"-87.78\" font-family=\"Times,serif\" font-size=\"14.00\">r</text>\n",
       "<text text-anchor=\"middle\" x=\"190\" y=\"-72.78\" font-family=\"Times,serif\" font-size=\"14.00\">~</text>\n",
       "<text text-anchor=\"middle\" x=\"190\" y=\"-57.78\" font-family=\"Times,serif\" font-size=\"14.00\">Bernoulli</text>\n",
       "</g>\n",
       "<!-- e1 -->\n",
       "<g id=\"node3\" class=\"node\">\n",
       "<title>e1</title>\n",
       "<ellipse fill=\"lightgrey\" stroke=\"black\" cx=\"65\" cy=\"-76.48\" rx=\"49.49\" ry=\"37.45\"/>\n",
       "<text text-anchor=\"middle\" x=\"65\" y=\"-87.78\" font-family=\"Times,serif\" font-size=\"14.00\">e1</text>\n",
       "<text text-anchor=\"middle\" x=\"65\" y=\"-72.78\" font-family=\"Times,serif\" font-size=\"14.00\">~</text>\n",
       "<text text-anchor=\"middle\" x=\"65\" y=\"-57.78\" font-family=\"Times,serif\" font-size=\"14.00\">Normal</text>\n",
       "</g>\n",
       "</g>\n",
       "</svg>\n"
      ],
      "text/plain": [
       "<graphviz.graphs.Digraph at 0x7f30064b7160>"
      ]
     },
     "execution_count": 8,
     "metadata": {},
     "output_type": "execute_result"
    }
   ],
   "source": [
    "pm.model_to_graphviz(model)"
   ]
  },
  {
   "cell_type": "code",
   "execution_count": 6,
   "metadata": {},
   "outputs": [
    {
     "name": "stderr",
     "output_type": "stream",
     "text": [
      "/home/congtj/miniconda3/envs/openforge-pymc/lib/python3.9/site-packages/arviz/stats/diagnostics.py:592: RuntimeWarning: invalid value encountered in scalar divide\n",
      "  (between_chain_variance / within_chain_variance + num_samples - 1) / (num_samples)\n"
     ]
    },
    {
     "data": {
      "text/html": [
       "<div>\n",
       "<style scoped>\n",
       "    .dataframe tbody tr th:only-of-type {\n",
       "        vertical-align: middle;\n",
       "    }\n",
       "\n",
       "    .dataframe tbody tr th {\n",
       "        vertical-align: top;\n",
       "    }\n",
       "\n",
       "    .dataframe thead th {\n",
       "        text-align: right;\n",
       "    }\n",
       "</style>\n",
       "<table border=\"1\" class=\"dataframe\">\n",
       "  <thead>\n",
       "    <tr style=\"text-align: right;\">\n",
       "      <th></th>\n",
       "      <th>mean</th>\n",
       "      <th>sd</th>\n",
       "      <th>hdi_3%</th>\n",
       "      <th>hdi_97%</th>\n",
       "      <th>mcse_mean</th>\n",
       "      <th>mcse_sd</th>\n",
       "      <th>ess_bulk</th>\n",
       "      <th>ess_tail</th>\n",
       "      <th>r_hat</th>\n",
       "    </tr>\n",
       "  </thead>\n",
       "  <tbody>\n",
       "    <tr>\n",
       "      <th>r[0]</th>\n",
       "      <td>1.0</td>\n",
       "      <td>0.0</td>\n",
       "      <td>1.0</td>\n",
       "      <td>1.0</td>\n",
       "      <td>0.0</td>\n",
       "      <td>0.0</td>\n",
       "      <td>4000.0</td>\n",
       "      <td>4000.0</td>\n",
       "      <td>NaN</td>\n",
       "    </tr>\n",
       "    <tr>\n",
       "      <th>r[1]</th>\n",
       "      <td>1.0</td>\n",
       "      <td>0.0</td>\n",
       "      <td>1.0</td>\n",
       "      <td>1.0</td>\n",
       "      <td>0.0</td>\n",
       "      <td>0.0</td>\n",
       "      <td>4000.0</td>\n",
       "      <td>4000.0</td>\n",
       "      <td>NaN</td>\n",
       "    </tr>\n",
       "    <tr>\n",
       "      <th>r[2]</th>\n",
       "      <td>0.0</td>\n",
       "      <td>0.0</td>\n",
       "      <td>0.0</td>\n",
       "      <td>0.0</td>\n",
       "      <td>0.0</td>\n",
       "      <td>0.0</td>\n",
       "      <td>4000.0</td>\n",
       "      <td>4000.0</td>\n",
       "      <td>NaN</td>\n",
       "    </tr>\n",
       "    <tr>\n",
       "      <th>r[3]</th>\n",
       "      <td>0.0</td>\n",
       "      <td>0.0</td>\n",
       "      <td>0.0</td>\n",
       "      <td>0.0</td>\n",
       "      <td>0.0</td>\n",
       "      <td>0.0</td>\n",
       "      <td>4000.0</td>\n",
       "      <td>4000.0</td>\n",
       "      <td>NaN</td>\n",
       "    </tr>\n",
       "    <tr>\n",
       "      <th>r[4]</th>\n",
       "      <td>1.0</td>\n",
       "      <td>0.0</td>\n",
       "      <td>1.0</td>\n",
       "      <td>1.0</td>\n",
       "      <td>0.0</td>\n",
       "      <td>0.0</td>\n",
       "      <td>4000.0</td>\n",
       "      <td>4000.0</td>\n",
       "      <td>NaN</td>\n",
       "    </tr>\n",
       "    <tr>\n",
       "      <th>...</th>\n",
       "      <td>...</td>\n",
       "      <td>...</td>\n",
       "      <td>...</td>\n",
       "      <td>...</td>\n",
       "      <td>...</td>\n",
       "      <td>...</td>\n",
       "      <td>...</td>\n",
       "      <td>...</td>\n",
       "      <td>...</td>\n",
       "    </tr>\n",
       "    <tr>\n",
       "      <th>r[9895]</th>\n",
       "      <td>1.0</td>\n",
       "      <td>0.0</td>\n",
       "      <td>1.0</td>\n",
       "      <td>1.0</td>\n",
       "      <td>0.0</td>\n",
       "      <td>0.0</td>\n",
       "      <td>4000.0</td>\n",
       "      <td>4000.0</td>\n",
       "      <td>NaN</td>\n",
       "    </tr>\n",
       "    <tr>\n",
       "      <th>r[9896]</th>\n",
       "      <td>1.0</td>\n",
       "      <td>0.0</td>\n",
       "      <td>1.0</td>\n",
       "      <td>1.0</td>\n",
       "      <td>0.0</td>\n",
       "      <td>0.0</td>\n",
       "      <td>4000.0</td>\n",
       "      <td>4000.0</td>\n",
       "      <td>NaN</td>\n",
       "    </tr>\n",
       "    <tr>\n",
       "      <th>r[9897]</th>\n",
       "      <td>1.0</td>\n",
       "      <td>0.0</td>\n",
       "      <td>1.0</td>\n",
       "      <td>1.0</td>\n",
       "      <td>0.0</td>\n",
       "      <td>0.0</td>\n",
       "      <td>4000.0</td>\n",
       "      <td>4000.0</td>\n",
       "      <td>NaN</td>\n",
       "    </tr>\n",
       "    <tr>\n",
       "      <th>r[9898]</th>\n",
       "      <td>1.0</td>\n",
       "      <td>0.0</td>\n",
       "      <td>1.0</td>\n",
       "      <td>1.0</td>\n",
       "      <td>0.0</td>\n",
       "      <td>0.0</td>\n",
       "      <td>4000.0</td>\n",
       "      <td>4000.0</td>\n",
       "      <td>NaN</td>\n",
       "    </tr>\n",
       "    <tr>\n",
       "      <th>r[9899]</th>\n",
       "      <td>0.0</td>\n",
       "      <td>0.0</td>\n",
       "      <td>0.0</td>\n",
       "      <td>0.0</td>\n",
       "      <td>0.0</td>\n",
       "      <td>0.0</td>\n",
       "      <td>4000.0</td>\n",
       "      <td>4000.0</td>\n",
       "      <td>NaN</td>\n",
       "    </tr>\n",
       "  </tbody>\n",
       "</table>\n",
       "<p>9900 rows × 9 columns</p>\n",
       "</div>"
      ],
      "text/plain": [
       "         mean   sd  hdi_3%  hdi_97%  mcse_mean  mcse_sd  ess_bulk  ess_tail  \\\n",
       "r[0]      1.0  0.0     1.0      1.0        0.0      0.0    4000.0    4000.0   \n",
       "r[1]      1.0  0.0     1.0      1.0        0.0      0.0    4000.0    4000.0   \n",
       "r[2]      0.0  0.0     0.0      0.0        0.0      0.0    4000.0    4000.0   \n",
       "r[3]      0.0  0.0     0.0      0.0        0.0      0.0    4000.0    4000.0   \n",
       "r[4]      1.0  0.0     1.0      1.0        0.0      0.0    4000.0    4000.0   \n",
       "...       ...  ...     ...      ...        ...      ...       ...       ...   \n",
       "r[9895]   1.0  0.0     1.0      1.0        0.0      0.0    4000.0    4000.0   \n",
       "r[9896]   1.0  0.0     1.0      1.0        0.0      0.0    4000.0    4000.0   \n",
       "r[9897]   1.0  0.0     1.0      1.0        0.0      0.0    4000.0    4000.0   \n",
       "r[9898]   1.0  0.0     1.0      1.0        0.0      0.0    4000.0    4000.0   \n",
       "r[9899]   0.0  0.0     0.0      0.0        0.0      0.0    4000.0    4000.0   \n",
       "\n",
       "         r_hat  \n",
       "r[0]       NaN  \n",
       "r[1]       NaN  \n",
       "r[2]       NaN  \n",
       "r[3]       NaN  \n",
       "r[4]       NaN  \n",
       "...        ...  \n",
       "r[9895]    NaN  \n",
       "r[9896]    NaN  \n",
       "r[9897]    NaN  \n",
       "r[9898]    NaN  \n",
       "r[9899]    NaN  \n",
       "\n",
       "[9900 rows x 9 columns]"
      ]
     },
     "execution_count": 6,
     "metadata": {},
     "output_type": "execute_result"
    }
   ],
   "source": [
    "pm.summary(trace, round_to=2)"
   ]
  },
  {
   "cell_type": "code",
   "execution_count": 7,
   "metadata": {},
   "outputs": [
    {
     "data": {
      "text/plain": [
       "array([[<Axes: title={'center': 'r'}>, <Axes: title={'center': 'r'}>]],\n",
       "      dtype=object)"
      ]
     },
     "execution_count": 7,
     "metadata": {},
     "output_type": "execute_result"
    },
    {
     "data": {
      "image/png": "[encoded data removed]",
      "text/plain": [
       "<Figure size 1200x200 with 2 Axes>"
      ]
     },
     "metadata": {},
     "output_type": "display_data"
    }
   ],
   "source": [
    "az.plot_trace(trace, combined=True)"
   ]
  },
  {
   "cell_type": "code",
   "execution_count": 15,
   "metadata": {},
   "outputs": [
    {
     "name": "stdout",
     "output_type": "stream",
     "text": [
      "(4, 1000, 9900)\n",
      "[[1 1 0 ... 1 1 0]\n",
      " [1 1 0 ... 1 1 0]\n",
      " [1 1 0 ... 1 1 0]\n",
      " ...\n",
      " [1 1 0 ... 1 1 0]\n",
      " [1 1 0 ... 1 1 0]\n",
      " [1 1 0 ... 1 1 0]]\n"
     ]
    }
   ],
   "source": [
    "print(trace.posterior.r.values.shape)\n",
    "print(trace.posterior.r.values[0])"
   ]
  },
  {
   "cell_type": "code",
   "execution_count": 17,
   "metadata": {},
   "outputs": [],
   "source": [
    "sample_counts = {}\n",
    "\n",
    "for sample in trace.posterior.r.values[0]:\n",
    "    sample_str = \"\".join([str(int(s)) for s in sample])\n",
    "    if sample_str not in sample_counts:\n",
    "        sample_counts[sample_str] = 1\n",
    "    else:\n",
    "        sample_counts[sample_str] += 1"
   ]
  },
  {
   "cell_type": "code",
   "execution_count": 18,
   "metadata": {},
   "outputs": [
    {
     "name": "stdout",
     "output_type": "stream",
     "text": [
      "{'110010001000010110011111110000101010100110101010110100110011001000000001001100000011100101010000001110010100101010011010100001110001011000001000101000111101100110100010101100101010100011010111111000010100000011010010111011010101100100001011100011111110011100001000111101000110111011111011100100101110010111001100111101000110100000001001011000010101001000100011010000111110010100101001111001010000010100010000000010000100111010101001110110011111110100101100101010111010000100111001010101000001000010000100100011001010000010100111010001111100100100000010011000011000101011100001111101011110000110100010010011011000000001110001111101110111101011010110011000010101011110001101001111000100010110001101101000000001110010010011111000100011100011010101011111011101001001010011000110010110011001010001011111101001000111000110110111101001000110001010101111011110001110000010101101001010100101011111101010011010010101110010110011110011010000111100001000001000110011000001101000011111010110011110111111101010100011110100110110001000000010000011101111110001000000110010101001111000010110101101110110111000000101011011110001000001000000100011011100010100110100000101001000110100101000110110110100101110010011010001101010100011100100101011001000100001001001111100000001000010111101100001110010101111110110011111010111110101000000100110011010001101110000001101100010001100100010110111001011100011011010101110110011011110111001110011010101111100100101101100010100101111001010000110001001110001010010011111000011110001110001110000001001011110110001000100111010111010100100000101011100001100000110110100000001101000000011011001011001111110100100010100011110001000011011111001001011100011110010011111111100111000111011111001000101010010011100101000100000100111111111000001000100000010111111110000101101110010001010111011000110000100111001001101010001111000110010001010100101001001000001101001100111100110100000110100100111000011110010111011100001001100110011011011010001101110001111011101110100010000001010100111000110011010101001011011101100011101011000010111100100100011110000101101101001110010001000001010011111010000001101001011011010001001110010001001000111001100011111101001111101010101111100010000100011010010101111110101100001000010101000000110000101000011101011010101000101000110100100110000000110100110110100000001001111111111100001000001000110101101011010001010010000101110000010010101101100110011000100000010000010100100011101101011101101101111100001000010001110000111110111101000101100000101111000001001101000111010110110000010100100001110110011111101000011110000110100111101000001001001010000100001010010011011000101000000001111011101010001110010110001000011000010010101100011100100101010100000110001011110110000111000100111100111100111100010011101010010011000100101101001000100010000000111100111010000111101001110101110001000111100011010011001001100101001001001100010000111000010100101100110111111001000110100100110101111100001001110010100110010101011011111011110011011010110001011001011101010100101110110001100011010000110011111100010111011010101100000110101000010110110001111101101010100111010101101000010111011011010011111001100110001000101000000111000101000100000100010000110010001110011001010001110000010010000001110010000011101100011100010111011010001100011001110101000001000100110100110001000010111101000100100100001110010110011000001000000101111010000011011100110101100101110010000010010100010001011011000101000110101000011111111101001100001100111100001011100100111010010011111100101101000100010010101010110010110110001001110111101001101000000111001110101010111001000110001001101001110001001010011100100110010110111111010000110100001111110010000101101100100011111101100111010000011011000010111001111011110001110011110011100001111010101001000010000111011000101011111001101001010000010000011110011111011001001100001110011011111000110101101111100100010100011011111110000111001011110001001111011111000010010110000011111001101110111100011101000111011101110001010101111001000101101001000000111010010011011001110011011011001011010011111101010011000010010011010011100101111101000011011010000101001100001011010000111010000100011011001110100001111101110111011100010101010100111100010100110010001110101001010100110110010001111011000100000101010010110001001101000001000111000011111010000011011011100101100100111001110011100110110100011011010001110000101100000110000011110111010110110100011010111000100011000011010111100001010100110100110100001101111001101010000100110010001100000010111011011001110111111111010110000010111010010111101010110000010101010111000001010011110001011100110110110101110101101100111011010101011111001101001111110101010011100001001111010001010111011010110110001101101101001111110100010100111110101000101000110101111001100011100010000111100001000110000111100010101000111111111111101001100111011000111011011111010010011011001100011101011100001010010011110010000010101100110100100100110010000001111100101010010111011001011000010001101011111000010011111111010010010000001011000111001000101100110011001001101100010110101010111100001010000010011110000100001101101011110001011100001101101010111100011010100100001001000010000101000100001000010001100100101110010011010010110101100101100000001101101001010110100000011001001001010101000111000000110110011111011001111010011001100010101101011101101100000010110010111000111111001000110000110110011001111001111010111001000111010110001001001100110110001111100100010110011010010000001000010111111101100111110000110100110010010110101111001100110010001100010000101001000000110111110110010110001100100100101011010100011001000010010000110001010010010011011011111001110000101011100001010000011100010110110111101011111100001001010011110110011110101111001110110111100000011000101111010100000001101100000101011111000011110000000100011101111010100001111110010111010001110101101110111001110101011010000010000100110001011111110110011100101011001011100100111111000010110100100001000111110000100110000110011111001110101111000111110110110100100001001101101000100000000011011010100000100001010000101001001011111011011111111011111011000111011110000110000011001010000111010111101111111110000110011100110101011011000001110111000000111100011000011100111010101000011001011000000011101000011010100101111010011010011000100001100101011100011000101101011100000110011100000011000111111111010111101100101100111000000101110011000111000000011111001011000111010100000111010100111100001110100100010101101111011011110011110110111101001100010100011100110011000010100111111100101011011111010101001100010010100100100011001010101010001001000010001101100100010100100111000101001100010111100011000001000010111100011011101010011001101110000100111010100010100100101111111100010100101011010101010110110110110110101101000111110011010100001010111010000010110110110000101100000101010000100101001001010011001000100101011010101000101001110001110000001011010100001100100001100110001010100111001111010100000000111110101011001100000011111101111111010000000001011000110100111001000101110101111000100110100111011000110101110010000000010011111110100011001000110100000000111111101100111110101011111011101011010111011010011010000010000110000000100000010100011011001111100010110000101010110001100011010111000100100100101001000100010101110001110010001111000011110000101100000101110000101101111001000111010110111100000001001100010001011101010111100100000100111000010001100011011111000011101001001110010100001100100011111000000110011111011001000010110010000001101100011110110000111010100010000011000010000010101010010001011001111101111100000011110101001000111111001011111100100101001100010001011011110011010001111100101110111011111011100101101001000000001011000001110110111010010101010010001110110000100101111001001100000000010100000001011101110001100101000110111011110010000001001100011010101100000011001001101001010110001110111100010111100100001001000001001111000000001111111110000100100111111011010000011001100010111101100111010001111001001101111100010100101000110100001000101110001110110100010001100110001011001100001111111101001010101001100000001011011110110000100110101110011111001110010000000010000010101101110000101101000111110100100100011000111110011101010000111010110000011111010001000011111101110001001001000100001001111010010110110010000000110000110110100101010110001110000101100011100011000111010000000001010011010001011001101111101111111000000111010011000011001101100001000100110111010000110010101001111110100001011101111100101000110010110111010100111111110110011100001110101101001110010001100011001010101010100111011000100110010100100000110100001101110110001111101000001101111100001001111111101001001110001100001101110101001111100000101110101110111010000111010000100101100000110101111101111110100100101001001010000101001100111010000001001101010000100100100010111001100110011101001101011011010010100001110011011100000100000110100111000101100001100001100100011010011100101110001101111001100010011010010010100100110111101010111010111101111000101101001100101010110100110111010100000000100010000010010100110001100100010011101001111111100110111101001010111010110011011110100111011001101000111001000110100011010010000001010010100010100101000000000100000010101011111011000011011100110010100010110011011100110001110110000111100010110110010101101000101101100010010001000100000010010001101001101101010000100001101110001011001011010101000101000100001000011001100111000001100111110001001100100010101011110110110111111100111001111001000111101110111010011110101101101001000110101011111011001100011100110110010000100001101110000001100011100011101011101111010101101111011100101000101001101000000100101010110011110001011110100101010100011000010110111100011011111001011101100000001111011000001011000001010110110111111101110110011100000100000011010010110101000111101011000110010101001010000001111100010000001011110011011100010110000111011010001101111101110011000000001010111101001011100000011100010001011010011111110': 1000}\n"
     ]
    }
   ],
   "source": [
    "print(sample_counts)"
   ]
  }
 ],
 "metadata": {
  "kernelspec": {
   "display_name": "openforge-pymc",
   "language": "python",
   "name": "python3"
  },
  "language_info": {
   "codemirror_mode": {
    "name": "ipython",
    "version": 3
   },
   "file_extension": ".py",
   "mimetype": "text/x-python",
   "name": "python",
   "nbconvert_exporter": "python",
   "pygments_lexer": "ipython3",
   "version": "3.9.18"
  }
 },
 "nbformat": 4,
 "nbformat_minor": 2
}
