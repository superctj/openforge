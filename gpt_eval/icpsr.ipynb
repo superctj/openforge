{
 "cells": [
  {
   "cell_type": "code",
   "execution_count": 1,
   "id": "761289aa-db28-4ebe-a40d-722dbe384c5d",
   "metadata": {},
   "outputs": [],
   "source": [
    "import pandas as pd"
   ]
  },
  {
   "cell_type": "code",
   "execution_count": 2,
   "id": "36f8c677-cb55-451b-acc9-b197ba1a8edc",
   "metadata": {},
   "outputs": [],
   "source": [
    "dev_data = pd.read_csv(\"OpenForge_ICPSR_Benchmark/openforge_icpsr_hyper_training.csv\")"
   ]
  },
  {
   "cell_type": "code",
   "execution_count": 4,
   "id": "04c0dd59-c3e9-4f82-bd0d-d204970104fd",
   "metadata": {},
   "outputs": [],
   "source": [
    "test_data = pd.read_csv(\"OpenForge_ICPSR_Benchmark/openforge_icpsr_hyper_test.csv\")"
   ]
  },
  {
   "cell_type": "code",
   "execution_count": 5,
   "id": "e1eebada-4b6c-4673-bc54-616c9a5db9b4",
   "metadata": {},
   "outputs": [
    {
     "data": {
      "text/html": [
       "<div>\n",
       "<style scoped>\n",
       "    .dataframe tbody tr th:only-of-type {\n",
       "        vertical-align: middle;\n",
       "    }\n",
       "\n",
       "    .dataframe tbody tr th {\n",
       "        vertical-align: top;\n",
       "    }\n",
       "\n",
       "    .dataframe thead th {\n",
       "        text-align: right;\n",
       "    }\n",
       "</style>\n",
       "<table border=\"1\" class=\"dataframe\">\n",
       "  <thead>\n",
       "    <tr style=\"text-align: right;\">\n",
       "      <th></th>\n",
       "      <th>concept_1</th>\n",
       "      <th>concept_2</th>\n",
       "      <th>name_qgram_similarity</th>\n",
       "      <th>name_jaccard_similarity</th>\n",
       "      <th>name_edit_distance</th>\n",
       "      <th>name_fasttext_similarity</th>\n",
       "      <th>name_word_count_ratio</th>\n",
       "      <th>name_char_count_ratio</th>\n",
       "      <th>relation_variable_label</th>\n",
       "      <th>relation_variable_name</th>\n",
       "    </tr>\n",
       "  </thead>\n",
       "  <tbody>\n",
       "    <tr>\n",
       "      <th>0</th>\n",
       "      <td>human settlements</td>\n",
       "      <td>administrative divisions</td>\n",
       "      <td>0.000000</td>\n",
       "      <td>0.0</td>\n",
       "      <td>18</td>\n",
       "      <td>0.287421</td>\n",
       "      <td>1.0</td>\n",
       "      <td>0.708333</td>\n",
       "      <td>1</td>\n",
       "      <td>R_1-2</td>\n",
       "    </tr>\n",
       "    <tr>\n",
       "      <th>1</th>\n",
       "      <td>human settlements</td>\n",
       "      <td>provinces</td>\n",
       "      <td>0.000000</td>\n",
       "      <td>0.0</td>\n",
       "      <td>15</td>\n",
       "      <td>0.187749</td>\n",
       "      <td>2.0</td>\n",
       "      <td>1.888889</td>\n",
       "      <td>1</td>\n",
       "      <td>R_1-3</td>\n",
       "    </tr>\n",
       "    <tr>\n",
       "      <th>2</th>\n",
       "      <td>human settlements</td>\n",
       "      <td>fatalities</td>\n",
       "      <td>0.000000</td>\n",
       "      <td>0.0</td>\n",
       "      <td>13</td>\n",
       "      <td>0.242180</td>\n",
       "      <td>2.0</td>\n",
       "      <td>1.700000</td>\n",
       "      <td>0</td>\n",
       "      <td>R_1-4</td>\n",
       "    </tr>\n",
       "    <tr>\n",
       "      <th>3</th>\n",
       "      <td>human settlements</td>\n",
       "      <td>homicide</td>\n",
       "      <td>0.000000</td>\n",
       "      <td>0.0</td>\n",
       "      <td>14</td>\n",
       "      <td>0.214332</td>\n",
       "      <td>2.0</td>\n",
       "      <td>2.125000</td>\n",
       "      <td>0</td>\n",
       "      <td>R_1-5</td>\n",
       "    </tr>\n",
       "    <tr>\n",
       "      <th>4</th>\n",
       "      <td>human settlements</td>\n",
       "      <td>murder</td>\n",
       "      <td>0.000000</td>\n",
       "      <td>0.0</td>\n",
       "      <td>15</td>\n",
       "      <td>0.194847</td>\n",
       "      <td>2.0</td>\n",
       "      <td>2.833333</td>\n",
       "      <td>0</td>\n",
       "      <td>R_1-6</td>\n",
       "    </tr>\n",
       "    <tr>\n",
       "      <th>...</th>\n",
       "      <td>...</td>\n",
       "      <td>...</td>\n",
       "      <td>...</td>\n",
       "      <td>...</td>\n",
       "      <td>...</td>\n",
       "      <td>...</td>\n",
       "      <td>...</td>\n",
       "      <td>...</td>\n",
       "      <td>...</td>\n",
       "      <td>...</td>\n",
       "    </tr>\n",
       "    <tr>\n",
       "      <th>1426</th>\n",
       "      <td>Cuban Revolution</td>\n",
       "      <td>imprisonment</td>\n",
       "      <td>0.000000</td>\n",
       "      <td>0.0</td>\n",
       "      <td>15</td>\n",
       "      <td>0.153960</td>\n",
       "      <td>2.0</td>\n",
       "      <td>1.333333</td>\n",
       "      <td>0</td>\n",
       "      <td>R_51-53</td>\n",
       "    </tr>\n",
       "    <tr>\n",
       "      <th>1427</th>\n",
       "      <td>Cuban Revolution</td>\n",
       "      <td>corporate sentencing</td>\n",
       "      <td>0.000000</td>\n",
       "      <td>0.0</td>\n",
       "      <td>16</td>\n",
       "      <td>0.106177</td>\n",
       "      <td>1.0</td>\n",
       "      <td>0.800000</td>\n",
       "      <td>0</td>\n",
       "      <td>R_51-54</td>\n",
       "    </tr>\n",
       "    <tr>\n",
       "      <th>1428</th>\n",
       "      <td>punishment</td>\n",
       "      <td>imprisonment</td>\n",
       "      <td>0.125000</td>\n",
       "      <td>0.0</td>\n",
       "      <td>6</td>\n",
       "      <td>0.518840</td>\n",
       "      <td>1.0</td>\n",
       "      <td>0.833333</td>\n",
       "      <td>1</td>\n",
       "      <td>R_52-53</td>\n",
       "    </tr>\n",
       "    <tr>\n",
       "      <th>1429</th>\n",
       "      <td>punishment</td>\n",
       "      <td>corporate sentencing</td>\n",
       "      <td>0.045455</td>\n",
       "      <td>0.0</td>\n",
       "      <td>16</td>\n",
       "      <td>0.424819</td>\n",
       "      <td>0.5</td>\n",
       "      <td>0.500000</td>\n",
       "      <td>1</td>\n",
       "      <td>R_52-54</td>\n",
       "    </tr>\n",
       "    <tr>\n",
       "      <th>1430</th>\n",
       "      <td>imprisonment</td>\n",
       "      <td>corporate sentencing</td>\n",
       "      <td>0.041667</td>\n",
       "      <td>0.0</td>\n",
       "      <td>14</td>\n",
       "      <td>0.433951</td>\n",
       "      <td>0.5</td>\n",
       "      <td>0.600000</td>\n",
       "      <td>1</td>\n",
       "      <td>R_53-54</td>\n",
       "    </tr>\n",
       "  </tbody>\n",
       "</table>\n",
       "<p>1431 rows × 10 columns</p>\n",
       "</div>"
      ],
      "text/plain": [
       "              concept_1                 concept_2  name_qgram_similarity  \\\n",
       "0     human settlements  administrative divisions               0.000000   \n",
       "1     human settlements                 provinces               0.000000   \n",
       "2     human settlements                fatalities               0.000000   \n",
       "3     human settlements                  homicide               0.000000   \n",
       "4     human settlements                    murder               0.000000   \n",
       "...                 ...                       ...                    ...   \n",
       "1426   Cuban Revolution              imprisonment               0.000000   \n",
       "1427   Cuban Revolution      corporate sentencing               0.000000   \n",
       "1428         punishment              imprisonment               0.125000   \n",
       "1429         punishment      corporate sentencing               0.045455   \n",
       "1430       imprisonment      corporate sentencing               0.041667   \n",
       "\n",
       "      name_jaccard_similarity  name_edit_distance  name_fasttext_similarity  \\\n",
       "0                         0.0                  18                  0.287421   \n",
       "1                         0.0                  15                  0.187749   \n",
       "2                         0.0                  13                  0.242180   \n",
       "3                         0.0                  14                  0.214332   \n",
       "4                         0.0                  15                  0.194847   \n",
       "...                       ...                 ...                       ...   \n",
       "1426                      0.0                  15                  0.153960   \n",
       "1427                      0.0                  16                  0.106177   \n",
       "1428                      0.0                   6                  0.518840   \n",
       "1429                      0.0                  16                  0.424819   \n",
       "1430                      0.0                  14                  0.433951   \n",
       "\n",
       "      name_word_count_ratio  name_char_count_ratio  relation_variable_label  \\\n",
       "0                       1.0               0.708333                        1   \n",
       "1                       2.0               1.888889                        1   \n",
       "2                       2.0               1.700000                        0   \n",
       "3                       2.0               2.125000                        0   \n",
       "4                       2.0               2.833333                        0   \n",
       "...                     ...                    ...                      ...   \n",
       "1426                    2.0               1.333333                        0   \n",
       "1427                    1.0               0.800000                        0   \n",
       "1428                    1.0               0.833333                        1   \n",
       "1429                    0.5               0.500000                        1   \n",
       "1430                    0.5               0.600000                        1   \n",
       "\n",
       "     relation_variable_name  \n",
       "0                     R_1-2  \n",
       "1                     R_1-3  \n",
       "2                     R_1-4  \n",
       "3                     R_1-5  \n",
       "4                     R_1-6  \n",
       "...                     ...  \n",
       "1426                R_51-53  \n",
       "1427                R_51-54  \n",
       "1428                R_52-53  \n",
       "1429                R_52-54  \n",
       "1430                R_53-54  \n",
       "\n",
       "[1431 rows x 10 columns]"
      ]
     },
     "execution_count": 5,
     "metadata": {},
     "output_type": "execute_result"
    }
   ],
   "source": [
    "test_data"
   ]
  },
  {
   "cell_type": "code",
   "execution_count": 6,
   "id": "bbacf967-3d93-4cb7-9ffe-21df7cd49ac9",
   "metadata": {},
   "outputs": [],
   "source": [
    "def few_shots(n=10, balanced=True):\n",
    "    if not balanced:\n",
    "        return dev_data.sample(n)\n",
    "    rst = pd.concat([dev_data[dev_data['relation_variable_label'] == 1].sample(n//2), dev_data[dev_data['relation_variable_label'] == 0].sample(n - n//2)])\n",
    "    rst = rst.sample(frac=1)\n",
    "    return rst[['concept_1', 'concept_2', 'relation_variable_label']]"
   ]
  },
  {
   "cell_type": "code",
   "execution_count": 11,
   "id": "49ee7840-b4bc-49fc-bfde-f01eae33a95e",
   "metadata": {},
   "outputs": [],
   "source": [
    "prompts = []\n",
    "labels = []\n",
    "\n",
    "for _, row in test_data.iterrows():\n",
    "    prompt = \"\"\"Your task is to determine whether two concepts are hypernymy, which means that first concept has broader meaning than the second one. Return your final result in the following JSON format : {\"answer\": <yes or no>}.\n",
    "\"\"\"\n",
    "    fewshots_prompt = \"\\n\\n\".join([\"Input:\\nConcept 1: {}\\nConcept 2: {}\\nOutput:\\n{}\".format(row[0], row[1], '{\"answer\": \"yes\"}' if row[2] else '{\"answer\": \"no\"}') for row in few_shots().values.tolist()])\n",
    "    # prompt += fewshots_prompt\n",
    "    prompt += \"\"\"\n",
    "Input:\n",
    "Concept 1: {}\n",
    "Concept 2: {}\n",
    "\n",
    "Output:\n",
    "    \"\"\".format(row['concept_1'], row['concept_2'])\n",
    "    prompts.append(prompt)\n",
    "    labels.append(row['relation_variable_label'])\n",
    "\n",
    "df = pd.DataFrame({\"prompt\": prompts, \"label\": labels})\n",
    "df.to_json(\"icpsr_test_0shots.jsonl\", orient=\"records\", lines=True)"
   ]
  },
  {
   "cell_type": "code",
   "execution_count": 12,
   "id": "692ae927-a8f8-473d-b914-19df0d0e6c33",
   "metadata": {},
   "outputs": [
    {
     "name": "stdout",
     "output_type": "stream",
     "text": [
      "Your task is to determine whether two concepts are hypernymy, which means that first concept has broader meaning than the second one. Return your final result in the following JSON format : {\"answer\": <yes or no>}.\n",
      "\n",
      "Input:\n",
      "Concept 1: human settlements\n",
      "Concept 2: administrative divisions\n",
      "\n",
      "Output:\n",
      "    \n"
     ]
    }
   ],
   "source": [
    "print(prompts[0])"
   ]
  },
  {
   "cell_type": "markdown",
   "id": "a5e89fd4-c458-4a6e-8818-ba722a3d6dfb",
   "metadata": {},
   "source": [
    "## Evaluate"
   ]
  },
  {
   "cell_type": "code",
   "execution_count": 21,
   "id": "371cd6c2-3104-4ddf-8427-8aaf91ac8dee",
   "metadata": {},
   "outputs": [],
   "source": [
    "from sklearn.metrics import f1_score, accuracy_score, recall_score, precision_score\n",
    "import re\n",
    "import json\n",
    "def evaluate(file):\n",
    "    df = pd.read_json(file, lines=True)\n",
    "    y_pred, y_true = [], []\n",
    "    for _, row in df.iterrows():\n",
    "        label = row['label']\n",
    "        res = row['response']\n",
    "        pattern = r'{[^}]*}'\n",
    "        matches = re.findall(pattern, res)\n",
    "        try:\n",
    "            res = json.loads(matches[0].strip())\n",
    "        except:\n",
    "            print(res)\n",
    "            continue\n",
    "        y_true.append(label)\n",
    "        pred = 1 if res['answer'] == \"yes\" else 0\n",
    "        y_pred.append(pred)\n",
    "    f1 = f1_score(y_true, y_pred)\n",
    "    acc = accuracy_score(y_true, y_pred)\n",
    "    rc = recall_score(y_true, y_pred)\n",
    "    prec = precision_score(y_true, y_pred)\n",
    "    print(\"f1: {:.5f}\\tacc: {:.5f}\\trecall: {:.5f}\\tprecision: {:.5f}\".format(f1, acc, rc, prec))"
   ]
  },
  {
   "cell_type": "code",
   "execution_count": 22,
   "id": "499468dc-1014-4a9a-83f4-e6c65738afa9",
   "metadata": {},
   "outputs": [
    {
     "name": "stdout",
     "output_type": "stream",
     "text": [
      "{\"answer\": no}\n",
      "f1: 0.50000\tacc: 0.94266\trecall: 0.71930\tprecision: 0.38318\n"
     ]
    }
   ],
   "source": [
    "evaluate(\"icpsr_test_0shots.jsonl.gpt-3.5-turbo-1106.result.jsonl\")"
   ]
  },
  {
   "cell_type": "code",
   "execution_count": 23,
   "id": "0ba82271-1cbf-462a-b27e-99742b539125",
   "metadata": {},
   "outputs": [
    {
     "name": "stdout",
     "output_type": "stream",
     "text": [
      "f1: 0.58065\tacc: 0.96366\trecall: 0.63158\tprecision: 0.53731\n"
     ]
    }
   ],
   "source": [
    "evaluate(\"icpsr_test_10shots.jsonl.gpt-3.5-turbo-1106.result.jsonl\")"
   ]
  },
  {
   "cell_type": "code",
   "execution_count": 24,
   "id": "95b7281f-5631-4004-9bf2-223015d28790",
   "metadata": {},
   "outputs": [
    {
     "name": "stdout",
     "output_type": "stream",
     "text": [
      "f1: 0.49057\tacc: 0.92453\trecall: 0.91228\tprecision: 0.33548\n"
     ]
    }
   ],
   "source": [
    "evaluate(\"icpsr_test_0shots.jsonl.gpt-4.result.jsonl\")"
   ]
  },
  {
   "cell_type": "code",
   "execution_count": 25,
   "id": "ac33614e-03f5-4596-9a7c-bc5dc05f2a5b",
   "metadata": {},
   "outputs": [
    {
     "name": "stdout",
     "output_type": "stream",
     "text": [
      "f1: 0.79389\tacc: 0.98113\trecall: 0.91228\tprecision: 0.70270\n"
     ]
    }
   ],
   "source": [
    "evaluate(\"icpsr_test_10shots.jsonl.gpt-4.result.jsonl\")"
   ]
  },
  {
   "cell_type": "code",
   "execution_count": null,
   "id": "79414cf3-5fbe-4b1b-be07-c7fb9cfcb179",
   "metadata": {},
   "outputs": [],
   "source": []
  },
  {
   "cell_type": "markdown",
   "id": "03b5d2f8-5a9a-4c20-8797-28235b3b2beb",
   "metadata": {},
   "source": [
    "## evaluate ARTS Multilabel"
   ]
  },
  {
   "cell_type": "code",
   "execution_count": 28,
   "id": "5345ea13-a4af-4f59-96f0-c2722a46a5fa",
   "metadata": {},
   "outputs": [],
   "source": [
    "from sklearn.metrics import f1_score, accuracy_score, recall_score, precision_score\n",
    "import re\n",
    "import json\n",
    "def evaluate(file):\n",
    "    df = pd.read_json(file, lines=True)\n",
    "    y_pred, y_true = [], []\n",
    "    for _, row in df.iterrows():\n",
    "        label = row['label']\n",
    "        res = row['response']\n",
    "        pattern = r'{[^}]*}'\n",
    "        matches = re.findall(pattern, res)\n",
    "        try:\n",
    "            res = json.loads(matches[0].strip())\n",
    "        except:\n",
    "            print(res)\n",
    "            continue\n",
    "        if res['answer'] == \"NULL\":\n",
    "            pred = 0\n",
    "        elif res['answer'] == \"equivalent\":\n",
    "            pred = 1\n",
    "        elif res['answer'] == \"hypernymy\":\n",
    "            pred = 2\n",
    "        else:\n",
    "            continue\n",
    "        y_true.append(label)\n",
    "        y_pred.append(pred)\n",
    "    f1 = f1_score(y_true, y_pred, average=\"macro\")\n",
    "    # acc = accuracy_score(y_true, y_pred, average=\"macro\")\n",
    "    rc = recall_score(y_true, y_pred, average=\"macro\")\n",
    "    prec = precision_score(y_true, y_pred, average=\"macro\")\n",
    "    print(\"macro f1: {:.5f}\\tmacro recall: {:.5f}\\tmacro precision: {:.5f}\".format(f1, rc, prec))"
   ]
  },
  {
   "cell_type": "code",
   "execution_count": 29,
   "id": "c9a86247-08b3-45d4-9f08-01246dc46a63",
   "metadata": {},
   "outputs": [
    {
     "name": "stdout",
     "output_type": "stream",
     "text": [
      "macro f1: 0.68022\tmacro recall: 0.64246\tmacro precision: 0.73165\n"
     ]
    }
   ],
   "source": [
    "evaluate(\"arts_multilabel_test_w_sample_values_0shots.jsonl.gpt-3.5-turbo-1106.result.jsonl\")"
   ]
  },
  {
   "cell_type": "code",
   "execution_count": 30,
   "id": "c2eb5b78-7d00-4312-a2a2-802325be4e03",
   "metadata": {},
   "outputs": [
    {
     "name": "stdout",
     "output_type": "stream",
     "text": [
      "macro f1: 0.55565\tmacro recall: 0.50958\tmacro precision: 0.64749\n"
     ]
    }
   ],
   "source": [
    "evaluate(\"arts_multilabel_test_w_sample_values_10shots.jsonl.gpt-3.5-turbo-1106.result.jsonl\")"
   ]
  },
  {
   "cell_type": "code",
   "execution_count": 31,
   "id": "cf3f8091-d4dd-4d63-9e37-c9837b546df9",
   "metadata": {},
   "outputs": [
    {
     "name": "stdout",
     "output_type": "stream",
     "text": [
      "macro f1: 0.82329\tmacro recall: 0.88910\tmacro precision: 0.78123\n"
     ]
    }
   ],
   "source": [
    "evaluate(\"arts_multilabel_test_w_sample_values_0shots.jsonl.gpt-4.result.jsonl\")"
   ]
  },
  {
   "cell_type": "code",
   "execution_count": 32,
   "id": "eb794bdf-22a4-48aa-9b3e-a39efc69033a",
   "metadata": {},
   "outputs": [
    {
     "name": "stdout",
     "output_type": "stream",
     "text": [
      "macro f1: 0.87390\tmacro recall: 0.94211\tmacro precision: 0.83159\n"
     ]
    }
   ],
   "source": [
    "evaluate(\"arts_multilabel_test_w_sample_values_10shots.jsonl.gpt-4.result.jsonl\")"
   ]
  },
  {
   "cell_type": "code",
   "execution_count": null,
   "id": "bffb6fde-7db1-4842-83bb-d1ee24285c13",
   "metadata": {},
   "outputs": [],
   "source": []
  },
  {
   "cell_type": "code",
   "execution_count": 33,
   "id": "24d13889-9dcc-4d01-9176-b903f4c56db3",
   "metadata": {},
   "outputs": [
    {
     "name": "stdout",
     "output_type": "stream",
     "text": [
      "macro f1: 0.87962\tmacro recall: 0.90712\tmacro precision: 0.85722\n"
     ]
    }
   ],
   "source": [
    "evaluate(\"arts_multilabel_test_0shots.jsonl.gpt-3.5-turbo-1106.result.jsonl\")"
   ]
  },
  {
   "cell_type": "code",
   "execution_count": 34,
   "id": "bb921f49-11d5-4873-9fe7-5210a871f364",
   "metadata": {},
   "outputs": [
    {
     "name": "stdout",
     "output_type": "stream",
     "text": [
      "macro f1: 0.85677\tmacro recall: 0.97075\tmacro precision: 0.80564\n"
     ]
    }
   ],
   "source": [
    "evaluate(\"arts_multilabel_test_0shots.jsonl.gpt-4.result.jsonl\")"
   ]
  },
  {
   "cell_type": "code",
   "execution_count": 35,
   "id": "04658f95-7408-496e-8639-8ee54daac553",
   "metadata": {},
   "outputs": [
    {
     "name": "stdout",
     "output_type": "stream",
     "text": [
      "macro f1: 0.83740\tmacro recall: 0.86702\tmacro precision: 0.81889\n"
     ]
    }
   ],
   "source": [
    "evaluate(\"arts_multilabel_test_10shots.jsonl.gpt-3.5-turbo-1106.result.jsonl\")"
   ]
  },
  {
   "cell_type": "code",
   "execution_count": 37,
   "id": "39b5cae9-e252-4e64-911a-3709ecf92830",
   "metadata": {},
   "outputs": [
    {
     "name": "stdout",
     "output_type": "stream",
     "text": [
      "macro f1: 0.90880\tmacro recall: 0.98434\tmacro precision: 0.86498\n"
     ]
    }
   ],
   "source": [
    "evaluate(\"arts_multilabel_test_10shots.jsonl.gpt-4.result.jsonl\")"
   ]
  },
  {
   "cell_type": "code",
   "execution_count": null,
   "id": "092637b9-564c-4fc2-9051-5254a2729fbf",
   "metadata": {},
   "outputs": [],
   "source": []
  }
 ],
 "metadata": {
  "kernelspec": {
   "display_name": "Python 3 (ipykernel)",
   "language": "python",
   "name": "python3"
  },
  "language_info": {
   "codemirror_mode": {
    "name": "ipython",
    "version": 3
   },
   "file_extension": ".py",
   "mimetype": "text/x-python",
   "name": "python",
   "nbconvert_exporter": "python",
   "pygments_lexer": "ipython3",
   "version": "3.11.5"
  }
 },
 "nbformat": 4,
 "nbformat_minor": 5
}
